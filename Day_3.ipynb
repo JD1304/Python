{
  "nbformat": 4,
  "nbformat_minor": 0,
  "metadata": {
    "colab": {
      "provenance": [],
      "authorship_tag": "ABX9TyOyZ+Jp1yOF2+0dCxyBQ8QS",
      "include_colab_link": true
    },
    "kernelspec": {
      "name": "python3",
      "display_name": "Python 3"
    },
    "language_info": {
      "name": "python"
    }
  },
  "cells": [
    {
      "cell_type": "markdown",
      "metadata": {
        "id": "view-in-github",
        "colab_type": "text"
      },
      "source": [
        "<a href=\"https://colab.research.google.com/github/JD1304/Python/blob/Day1/Day_3.ipynb\" target=\"_parent\"><img src=\"https://colab.research.google.com/assets/colab-badge.svg\" alt=\"Open In Colab\"/></a>"
      ]
    },
    {
      "cell_type": "code",
      "execution_count": 24,
      "metadata": {
        "colab": {
          "base_uri": "https://localhost:8080/"
        },
        "id": "8_wGAbQPRMvC",
        "outputId": "d03f96f7-f90d-490c-94d4-e01e8516625d"
      },
      "outputs": [
        {
          "output_type": "stream",
          "name": "stdout",
          "text": [
            "4\n"
          ]
        }
      ],
      "source": [
        "n = [1,3,2,5]\n",
        "n.sort()\n",
        "x = len(n)\n",
        "for i in range(x-1):\n",
        "  if (n[i]+1 != n[i+1]):\n",
        "    print(n[i]+1)\n",
        "    break\n",
        ""
      ]
    },
    {
      "cell_type": "code",
      "source": [
        "#Funtion re-usability of the given code\n",
        "#if a group of statement is repeatedly required then function is used\n",
        "\n",
        "def show():\n",
        "  print(\"Hello\")\n",
        "show()\n"
      ],
      "metadata": {
        "colab": {
          "base_uri": "https://localhost:8080/"
        },
        "id": "65qoisorWfYP",
        "outputId": "503aab53-6a0e-4f48-89ea-944e5cf88e75"
      },
      "execution_count": 25,
      "outputs": [
        {
          "output_type": "stream",
          "name": "stdout",
          "text": [
            "Hello\n"
          ]
        }
      ]
    },
    {
      "cell_type": "code",
      "source": [
        "def add():\n",
        "  a = int(input(\"Enter any number\"))\n",
        "  b = int(input(\"Enter any number\"))\n",
        "  print(f\"Sum of number is {a+b}\")\n",
        "add()"
      ],
      "metadata": {
        "colab": {
          "base_uri": "https://localhost:8080/"
        },
        "id": "Nb-sFFDHYc6Y",
        "outputId": "33d6aeff-9168-4cad-c0b0-8005fd465756"
      },
      "execution_count": 26,
      "outputs": [
        {
          "output_type": "stream",
          "name": "stdout",
          "text": [
            "Enter any number12\n",
            "Enter any number23\n",
            "Sum of number is 35\n"
          ]
        }
      ]
    },
    {
      "cell_type": "code",
      "source": [
        "print(\"Hello\")"
      ],
      "metadata": {
        "colab": {
          "base_uri": "https://localhost:8080/"
        },
        "id": "0WgBmB5EZZUz",
        "outputId": "2b875002-14a7-454f-b74d-146976dc6afb"
      },
      "execution_count": 27,
      "outputs": [
        {
          "output_type": "stream",
          "name": "stdout",
          "text": [
            "Hello\n"
          ]
        }
      ]
    }
  ]
}