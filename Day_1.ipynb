{
  "cells": [
    {
      "cell_type": "code",
      "source": [
        "a=2\n",
        "b=3\n",
        "res = complex(a,b)\n",
        "print(res)\n",
        "print(complex(True))\n",
        "print(complex(False))\n",
        "print(complex(True, True))\n",
        "print(complex(True, False))\n",
        "print(\"Hi\")\n"
      ],
      "metadata": {
        "colab": {
          "base_uri": "https://localhost:8080/"
        },
        "id": "r_BCsrOZVGTt",
        "outputId": "be9aeacf-81a4-4eb8-849a-4da593468868"
      },
      "id": "r_BCsrOZVGTt",
      "execution_count": 17,
      "outputs": [
        {
          "output_type": "stream",
          "name": "stdout",
          "text": [
            "(2+3j)\n",
            "(1+0j)\n",
            "0j\n",
            "(1+1j)\n",
            "(1+0j)\n",
            "Hi\n",
            "3\n",
            "3\n",
            "3.5\n",
            "3.7\n",
            "<class 'float'>\n"
          ]
        }
      ]
    },
    {
      "cell_type": "code",
      "source": [
        "print(int(3))\n",
        "print(int(3.5))\n",
        "print(float(3.5))\n",
        "print(3.7)\n",
        "print(type(3.7))"
      ],
      "metadata": {
        "id": "3Ko-TYMGY6bk",
        "outputId": "2b4e55ba-9c9d-40a6-9ed1-ae62ed084523",
        "colab": {
          "base_uri": "https://localhost:8080/"
        }
      },
      "id": "3Ko-TYMGY6bk",
      "execution_count": 19,
      "outputs": [
        {
          "output_type": "stream",
          "name": "stdout",
          "text": [
            "3\n",
            "3\n",
            "3.5\n",
            "3.7\n",
            "<class 'float'>\n"
          ]
        }
      ]
    },
    {
      "cell_type": "code",
      "source": [
        "a = \"Hi My name Is Jash\"\n",
        "print('H' in a)\n",
        "print('N' in a)\n",
        "print('Jash' in a)\n",
        "List1 = [\"JD\", \"Lakhan\"]\n",
        "print(\"Ayush\" in List1)"
      ],
      "metadata": {
        "id": "8N9P96B2Y-wm",
        "outputId": "c90db339-daa9-4a15-896b-09d1cfd05e70",
        "colab": {
          "base_uri": "https://localhost:8080/"
        }
      },
      "id": "8N9P96B2Y-wm",
      "execution_count": 24,
      "outputs": [
        {
          "output_type": "stream",
          "name": "stdout",
          "text": [
            "True\n",
            "False\n",
            "True\n",
            "False\n"
          ]
        }
      ]
    },
    {
      "cell_type": "code",
      "source": [
        "import math\n",
        "a = 5\n",
        "area = math.pi * (a**2)\n",
        "print(area)\n",
        "print(math.pi)\n",
        "print(math.sqrt(25))"
      ],
      "metadata": {
        "id": "ga47PdENal_7",
        "outputId": "ec967acc-91c5-4864-d844-eeabab3ed061",
        "colab": {
          "base_uri": "https://localhost:8080/"
        }
      },
      "id": "ga47PdENal_7",
      "execution_count": 28,
      "outputs": [
        {
          "output_type": "stream",
          "name": "stdout",
          "text": [
            "78.53981633974483\n",
            "3.141592653589793\n",
            "5.0\n"
          ]
        }
      ]
    },
    {
      "cell_type": "code",
      "source": [
        "a = int(input(\"Enter a nmber\"))\n",
        "b= int(input(\"Enter a number\"))\n",
        "print(a+b)"
      ],
      "metadata": {
        "id": "PbyiRI1rbDv7",
        "outputId": "c7c69f1d-3dec-4f1d-f9f0-c1e0fbced3a8",
        "colab": {
          "base_uri": "https://localhost:8080/"
        }
      },
      "id": "PbyiRI1rbDv7",
      "execution_count": 35,
      "outputs": [
        {
          "output_type": "stream",
          "name": "stdout",
          "text": [
            "Enter a nmber12\n",
            "Enter a number12\n",
            "24\n"
          ]
        }
      ]
    },
    {
      "cell_type": "code",
      "source": [
        "print(\"Addition is\", int(input(\"Enter a value: \"))+\n",
        "                         int(input(\"Enter a value: \")))"
      ],
      "metadata": {
        "id": "UD1ubLDLcGfj",
        "outputId": "ec20414f-f634-456a-e12c-e708f11ccb35",
        "colab": {
          "base_uri": "https://localhost:8080/"
        }
      },
      "id": "UD1ubLDLcGfj",
      "execution_count": 38,
      "outputs": [
        {
          "output_type": "stream",
          "name": "stdout",
          "text": [
            "Enter a value: 12\n",
            "Enter a value: 13\n",
            "Addition is 25\n"
          ]
        }
      ]
    },
    {
      "cell_type": "code",
      "source": [
        "a = eval(input(\"Enter any Number\"))\n",
        "print(a)"
      ],
      "metadata": {
        "id": "onpsNmkMczxU",
        "outputId": "5697466a-38d8-4b75-cfaa-fbd97d0c0eff",
        "colab": {
          "base_uri": "https://localhost:8080/"
        }
      },
      "id": "onpsNmkMczxU",
      "execution_count": 40,
      "outputs": [
        {
          "output_type": "stream",
          "name": "stdout",
          "text": [
            "Enter any Number12+13*5\n",
            "77\n"
          ]
        }
      ]
    },
    {
      "cell_type": "code",
      "source": [
        "#This is called as escape sequence\n",
        "print(\"Hello \\n World\")\n",
        "print(\"Hello \\t World\")\n",
        "print(\"Hello\" + \"World\")\n",
        "print(\"Hello\"*3)\n"
      ],
      "metadata": {
        "id": "ixtkNKjydJZj",
        "outputId": "cd76d4d8-fd26-4cb8-e932-6352e2ecb7c5",
        "colab": {
          "base_uri": "https://localhost:8080/"
        }
      },
      "id": "ixtkNKjydJZj",
      "execution_count": 42,
      "outputs": [
        {
          "output_type": "stream",
          "name": "stdout",
          "text": [
            "Hello \n",
            " World\n",
            "Hello \t World\n",
            "HelloWorld\n",
            "HelloHelloHello\n"
          ]
        }
      ]
    },
    {
      "cell_type": "code",
      "source": [
        "a, b, c = 10, 20, 30\n",
        "print(\"The values of a, b, c: \", a, b, c)\n",
        "print(a,b,c, sep = \",\")"
      ],
      "metadata": {
        "id": "8z5Z2JIGd2Jh",
        "outputId": "74f516d1-6c0d-4c0f-b268-d8e10e12c4fb",
        "colab": {
          "base_uri": "https://localhost:8080/"
        }
      },
      "id": "8z5Z2JIGd2Jh",
      "execution_count": 45,
      "outputs": [
        {
          "output_type": "stream",
          "name": "stdout",
          "text": [
            "The values of a, b, c:  10 20 30\n",
            "10,20,30\n"
          ]
        }
      ]
    },
    {
      "cell_type": "code",
      "source": [
        "print(\"Hello\", end = \" \")\n",
        "print(\"World\")"
      ],
      "metadata": {
        "id": "O3p2iusyellE",
        "outputId": "7b3987ab-43b6-47eb-9230-64ef99668ab5",
        "colab": {
          "base_uri": "https://localhost:8080/"
        }
      },
      "id": "O3p2iusyellE",
      "execution_count": 46,
      "outputs": [
        {
          "output_type": "stream",
          "name": "stdout",
          "text": [
            "Hello World\n"
          ]
        }
      ]
    },
    {
      "cell_type": "code",
      "source": [
        "a = 10\n",
        "b = 30\n",
        "c = 20\n",
        "print(\"a value is %i\" %a)\n",
        "print(\"b value is %i and c value is %d\" %(b,c))"
      ],
      "metadata": {
        "id": "tY5fDb2gfTFq",
        "outputId": "b55168d9-6953-4c3e-e515-c426d98f77e3",
        "colab": {
          "base_uri": "https://localhost:8080/"
        }
      },
      "id": "tY5fDb2gfTFq",
      "execution_count": 48,
      "outputs": [
        {
          "output_type": "stream",
          "name": "stdout",
          "text": [
            "a value is 10\n",
            "b value is 30 and c value is 20\n"
          ]
        }
      ]
    },
    {
      "cell_type": "code",
      "source": [
        "name = \"Jash\"\n",
        "Salary = 2000000\n",
        "Company = \"TCS\"\n",
        "print(\"Hello {0} your salary is {1} your company is {2}\".format(name, Salary, Company))"
      ],
      "metadata": {
        "id": "t9V5gBaMf71l",
        "outputId": "00e57565-97e1-4d4e-b2ae-b3e56d6282a1",
        "colab": {
          "base_uri": "https://localhost:8080/"
        }
      },
      "id": "t9V5gBaMf71l",
      "execution_count": 50,
      "outputs": [
        {
          "output_type": "stream",
          "name": "stdout",
          "text": [
            "Hello Jash your salary is 2000000 your company is TCS\n"
          ]
        }
      ]
    },
    {
      "cell_type": "code",
      "source": [
        "a = int(input(\"Enter any number\"))\n",
        "print(a%10)"
      ],
      "metadata": {
        "id": "uxqgH45Tgqu1",
        "outputId": "ea3fe6e0-2b49-4c05-ea9c-5e30e1526449",
        "colab": {
          "base_uri": "https://localhost:8080/"
        }
      },
      "id": "uxqgH45Tgqu1",
      "execution_count": 51,
      "outputs": [
        {
          "output_type": "stream",
          "name": "stdout",
          "text": [
            "Enter any number135679\n",
            "9\n"
          ]
        }
      ]
    }
  ],
  "metadata": {
    "kernelspec": {
      "display_name": "Python 3",
      "name": "python3"
    },
    "language_info": {
      "name": "python"
    },
    "required_libs": [],
    "colab": {
      "provenance": []
    }
  },
  "nbformat": 4,
  "nbformat_minor": 5
}