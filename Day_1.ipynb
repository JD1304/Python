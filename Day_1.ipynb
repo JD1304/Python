{
  "cells": [
    {
      "cell_type": "code",
      "source": [
        "a=2\n",
        "b=3\n",
        "res = complex(a,b)\n",
        "print(res)\n",
        "print(complex(True))\n",
        "print(complex(False))\n",
        "print(complex(True, True))\n",
        "print(complex(True, False))\n",
        "print(\"Hi\")"
      ],
      "metadata": {
        "colab": {
          "base_uri": "https://localhost:8080/"
        },
        "id": "r_BCsrOZVGTt",
        "outputId": "44024401-2b1d-4836-d13a-ad2beaa3e7b3"
      },
      "id": "r_BCsrOZVGTt",
      "execution_count": 11,
      "outputs": [
        {
          "output_type": "stream",
          "name": "stdout",
          "text": [
            "(2+3j)\n",
            "(1+0j)\n",
            "0j\n",
            "(1+1j)\n",
            "(1+0j)\n",
            "Hi\n"
          ]
        }
      ]
    }
  ],
  "metadata": {
    "kernelspec": {
      "display_name": "Python 3",
      "name": "python3"
    },
    "language_info": {
      "name": "python"
    },
    "required_libs": [],
    "colab": {
      "provenance": []
    }
  },
  "nbformat": 4,
  "nbformat_minor": 5
}