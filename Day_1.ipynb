{
  "cells": [
    {
      "cell_type": "code",
      "source": [
        "a=2\n",
        "b=3\n",
        "res = complex(a,b)\n",
        "print(res)\n",
        "print(complex(True))\n",
        "print(complex(False))\n",
        "print(complex(True, True))\n",
        "print(complex(True, False))\n",
        "print(\"Hi\")\n"
      ],
      "metadata": {
        "colab": {
          "base_uri": "https://localhost:8080/"
        },
        "id": "r_BCsrOZVGTt",
        "outputId": "be9aeacf-81a4-4eb8-849a-4da593468868"
      },
      "id": "r_BCsrOZVGTt",
      "execution_count": 17,
      "outputs": [
        {
          "output_type": "stream",
          "name": "stdout",
          "text": [
            "(2+3j)\n",
            "(1+0j)\n",
            "0j\n",
            "(1+1j)\n",
            "(1+0j)\n",
            "Hi\n",
            "3\n",
            "3\n",
            "3.5\n",
            "3.7\n",
            "<class 'float'>\n"
          ]
        }
      ]
    },
    {
      "cell_type": "code",
      "source": [
        "print(int(3))\n",
        "print(int(3.5))\n",
        "print(float(3.5))\n",
        "print(3.7)\n",
        "print(type(3.7))"
      ],
      "metadata": {
        "colab": {
          "base_uri": "https://localhost:8080/"
        },
        "id": "3Ko-TYMGY6bk",
        "outputId": "2b4e55ba-9c9d-40a6-9ed1-ae62ed084523"
      },
      "id": "3Ko-TYMGY6bk",
      "execution_count": 19,
      "outputs": [
        {
          "output_type": "stream",
          "name": "stdout",
          "text": [
            "3\n",
            "3\n",
            "3.5\n",
            "3.7\n",
            "<class 'float'>\n"
          ]
        }
      ]
    },
    {
      "cell_type": "code",
      "source": [
        "a = \"Hi My name Is Jash\"\n",
        "print('H' in a)\n",
        "print('N' in a)\n",
        "print('Jash' in a)\n",
        "List1 = [\"JD\", \"Lakhan\"]\n",
        "print(\"Ayush\" in List1)"
      ],
      "metadata": {
        "colab": {
          "base_uri": "https://localhost:8080/"
        },
        "id": "8N9P96B2Y-wm",
        "outputId": "c90db339-daa9-4a15-896b-09d1cfd05e70"
      },
      "id": "8N9P96B2Y-wm",
      "execution_count": 24,
      "outputs": [
        {
          "output_type": "stream",
          "name": "stdout",
          "text": [
            "True\n",
            "False\n",
            "True\n",
            "False\n"
          ]
        }
      ]
    },
    {
      "cell_type": "code",
      "source": [
        "import math\n",
        "a = 5\n",
        "area = math.pi * (a**2)\n",
        "print(area)\n",
        "print(math.pi)\n",
        "print(math.sqrt(25))"
      ],
      "metadata": {
        "colab": {
          "base_uri": "https://localhost:8080/"
        },
        "id": "ga47PdENal_7",
        "outputId": "ec967acc-91c5-4864-d844-eeabab3ed061"
      },
      "id": "ga47PdENal_7",
      "execution_count": 28,
      "outputs": [
        {
          "output_type": "stream",
          "name": "stdout",
          "text": [
            "78.53981633974483\n",
            "3.141592653589793\n",
            "5.0\n"
          ]
        }
      ]
    },
    {
      "cell_type": "code",
      "source": [
        "a = int(input(\"Enter a nmber\"))\n",
        "b= int(input(\"Enter a number\"))\n",
        "print(a+b)"
      ],
      "metadata": {
        "colab": {
          "base_uri": "https://localhost:8080/"
        },
        "id": "PbyiRI1rbDv7",
        "outputId": "c7c69f1d-3dec-4f1d-f9f0-c1e0fbced3a8"
      },
      "id": "PbyiRI1rbDv7",
      "execution_count": 35,
      "outputs": [
        {
          "output_type": "stream",
          "name": "stdout",
          "text": [
            "Enter a nmber12\n",
            "Enter a number12\n",
            "24\n"
          ]
        }
      ]
    },
    {
      "cell_type": "code",
      "source": [
        "print(\"Addition is\", int(input(\"Enter a value: \"))+\n",
        "                         int(input(\"Enter a value: \")))"
      ],
      "metadata": {
        "colab": {
          "base_uri": "https://localhost:8080/"
        },
        "id": "UD1ubLDLcGfj",
        "outputId": "ec20414f-f634-456a-e12c-e708f11ccb35"
      },
      "id": "UD1ubLDLcGfj",
      "execution_count": 38,
      "outputs": [
        {
          "output_type": "stream",
          "name": "stdout",
          "text": [
            "Enter a value: 12\n",
            "Enter a value: 13\n",
            "Addition is 25\n"
          ]
        }
      ]
    },
    {
      "cell_type": "code",
      "source": [
        "a = eval(input(\"Enter any Number\"))\n",
        "print(a)"
      ],
      "metadata": {
        "colab": {
          "base_uri": "https://localhost:8080/"
        },
        "id": "onpsNmkMczxU",
        "outputId": "5697466a-38d8-4b75-cfaa-fbd97d0c0eff"
      },
      "id": "onpsNmkMczxU",
      "execution_count": 40,
      "outputs": [
        {
          "output_type": "stream",
          "name": "stdout",
          "text": [
            "Enter any Number12+13*5\n",
            "77\n"
          ]
        }
      ]
    },
    {
      "cell_type": "code",
      "source": [
        "#This is called as escape sequence\n",
        "print(\"Hello \\n World\")\n",
        "print(\"Hello \\t World\")\n",
        "print(\"Hello\" + \"World\")\n",
        "print(\"Hello\"*3)\n"
      ],
      "metadata": {
        "colab": {
          "base_uri": "https://localhost:8080/"
        },
        "id": "ixtkNKjydJZj",
        "outputId": "cd76d4d8-fd26-4cb8-e932-6352e2ecb7c5"
      },
      "id": "ixtkNKjydJZj",
      "execution_count": 42,
      "outputs": [
        {
          "output_type": "stream",
          "name": "stdout",
          "text": [
            "Hello \n",
            " World\n",
            "Hello \t World\n",
            "HelloWorld\n",
            "HelloHelloHello\n"
          ]
        }
      ]
    },
    {
      "cell_type": "code",
      "source": [
        "a, b, c = 10, 20, 30\n",
        "print(\"The values of a, b, c: \", a, b, c)\n",
        "print(a,b,c, sep = \",\")"
      ],
      "metadata": {
        "colab": {
          "base_uri": "https://localhost:8080/"
        },
        "id": "8z5Z2JIGd2Jh",
        "outputId": "74f516d1-6c0d-4c0f-b268-d8e10e12c4fb"
      },
      "id": "8z5Z2JIGd2Jh",
      "execution_count": 45,
      "outputs": [
        {
          "output_type": "stream",
          "name": "stdout",
          "text": [
            "The values of a, b, c:  10 20 30\n",
            "10,20,30\n"
          ]
        }
      ]
    },
    {
      "cell_type": "code",
      "source": [
        "print(\"Hello\", end = \" \")\n",
        "print(\"World\")"
      ],
      "metadata": {
        "colab": {
          "base_uri": "https://localhost:8080/"
        },
        "id": "O3p2iusyellE",
        "outputId": "7b3987ab-43b6-47eb-9230-64ef99668ab5"
      },
      "id": "O3p2iusyellE",
      "execution_count": 46,
      "outputs": [
        {
          "output_type": "stream",
          "name": "stdout",
          "text": [
            "Hello World\n"
          ]
        }
      ]
    },
    {
      "cell_type": "code",
      "source": [
        "a = 10\n",
        "b = 30\n",
        "c = 20\n",
        "print(\"a value is %i\" %a)\n",
        "print(\"b value is %i and c value is %d\" %(b,c))"
      ],
      "metadata": {
        "colab": {
          "base_uri": "https://localhost:8080/"
        },
        "id": "tY5fDb2gfTFq",
        "outputId": "b55168d9-6953-4c3e-e515-c426d98f77e3"
      },
      "id": "tY5fDb2gfTFq",
      "execution_count": 48,
      "outputs": [
        {
          "output_type": "stream",
          "name": "stdout",
          "text": [
            "a value is 10\n",
            "b value is 30 and c value is 20\n"
          ]
        }
      ]
    },
    {
      "cell_type": "code",
      "source": [
        "name = \"Jash\"\n",
        "Salary = 2000000\n",
        "Company = \"TCS\"\n",
        "print(\"Hello {0} your salary is {1} your company is {2}\".format(name, Salary, Company))"
      ],
      "metadata": {
        "colab": {
          "base_uri": "https://localhost:8080/"
        },
        "id": "t9V5gBaMf71l",
        "outputId": "00e57565-97e1-4d4e-b2ae-b3e56d6282a1"
      },
      "id": "t9V5gBaMf71l",
      "execution_count": 50,
      "outputs": [
        {
          "output_type": "stream",
          "name": "stdout",
          "text": [
            "Hello Jash your salary is 2000000 your company is TCS\n"
          ]
        }
      ]
    },
    {
      "cell_type": "code",
      "source": [
        "a = int(input(\"Enter any number\"))\n",
        "print(a%10)"
      ],
      "metadata": {
        "colab": {
          "base_uri": "https://localhost:8080/"
        },
        "id": "uxqgH45Tgqu1",
        "outputId": "ea3fe6e0-2b49-4c05-ea9c-5e30e1526449"
      },
      "id": "uxqgH45Tgqu1",
      "execution_count": 51,
      "outputs": [
        {
          "output_type": "stream",
          "name": "stdout",
          "text": [
            "Enter any number135679\n",
            "9\n"
          ]
        }
      ]
    },
    {
      "cell_type": "code",
      "source": [
        "a = int(input(\"enter a number\"))\n",
        "sum = ((a//10)+(a%10))\n",
        "print(sum)"
      ],
      "metadata": {
        "id": "h11SNpReya_8",
        "outputId": "f077f8c1-0e80-444a-a9c2-a561f71a38ab",
        "colab": {
          "base_uri": "https://localhost:8080/"
        }
      },
      "id": "h11SNpReya_8",
      "execution_count": 2,
      "outputs": [
        {
          "output_type": "stream",
          "name": "stdout",
          "text": [
            "enter a number12\n",
            "3\n"
          ]
        }
      ]
    },
    {
      "cell_type": "code",
      "source": [
        "a =  int(input(\"Enter any 3 digit number\"))\n",
        "sum = ((a//100)+((a%100)//10)+ (a%10))\n",
        "print(sum)\n"
      ],
      "metadata": {
        "id": "C-ax3MRIzsmq",
        "outputId": "dae0d363-2d62-4d58-c733-a3fb69e62764",
        "colab": {
          "base_uri": "https://localhost:8080/"
        }
      },
      "id": "C-ax3MRIzsmq",
      "execution_count": 3,
      "outputs": [
        {
          "output_type": "stream",
          "name": "stdout",
          "text": [
            "Enter any 3 digit number111\n",
            "3\n"
          ]
        }
      ]
    },
    {
      "cell_type": "code",
      "source": [
        "a =  int(input(\"Enter any 3 digit number\"))\n",
        "sum = ((a//10000)+((a%10000)//1000)+ ((a%1000)//100)+ ((a%100)//10) + (a%10))\n",
        "print(sum)"
      ],
      "metadata": {
        "id": "zMbx_qhr0IGg",
        "outputId": "34a48cff-d8e8-4820-fdc1-19df03a67f77",
        "colab": {
          "base_uri": "https://localhost:8080/"
        }
      },
      "id": "zMbx_qhr0IGg",
      "execution_count": 6,
      "outputs": [
        {
          "output_type": "stream",
          "name": "stdout",
          "text": [
            "Enter any 3 digit number11111\n",
            "5\n"
          ]
        }
      ]
    },
    {
      "cell_type": "code",
      "source": [
        "a =  int(input(\"Enter any 5 digit number\"))\n",
        "sum = ((a//10000)+(((a%10000)//1000)*10)+ (((a%1000)//100)*100)+ (((a%100)//10)*1000) + ((a%10)*10000))\n",
        "print(sum)"
      ],
      "metadata": {
        "id": "aVe93cFv2PUf",
        "outputId": "e6d3d1f9-3310-4c74-8c10-08320049b5a0",
        "colab": {
          "base_uri": "https://localhost:8080/"
        }
      },
      "id": "aVe93cFv2PUf",
      "execution_count": 9,
      "outputs": [
        {
          "output_type": "stream",
          "name": "stdout",
          "text": [
            "Enter any 5 digit number12345\n",
            "54321\n"
          ]
        }
      ]
    },
    {
      "cell_type": "code",
      "source": [
        "a =  int(input(\"Enter any 9 digit number\"))\n",
        "sum = (a//100000000 + a%10)\n",
        "print(sum)"
      ],
      "metadata": {
        "id": "n9FEqifP3eYo",
        "outputId": "822794e8-002a-4877-d3f9-4e1f57217d88",
        "colab": {
          "base_uri": "https://localhost:8080/"
        }
      },
      "id": "n9FEqifP3eYo",
      "execution_count": 13,
      "outputs": [
        {
          "output_type": "stream",
          "name": "stdout",
          "text": [
            "Enter any 9 digit number123456789\n",
            "10\n"
          ]
        }
      ]
    },
    {
      "cell_type": "code",
      "source": [
        "s = \"JashDesai\"\n",
        "print(s[-1])\n",
        "print(s[0])\n",
        "print(s[0:4])\n",
        "print(s[0:6:2])\n",
        "print(s[::])"
      ],
      "metadata": {
        "id": "YDSF2sly42kQ",
        "outputId": "739bbc37-a24a-4abc-dc97-2697c3391467",
        "colab": {
          "base_uri": "https://localhost:8080/"
        }
      },
      "id": "YDSF2sly42kQ",
      "execution_count": 23,
      "outputs": [
        {
          "output_type": "stream",
          "name": "stdout",
          "text": [
            "i\n",
            "J\n",
            "Jash\n",
            "JsD\n",
            "JashDesai\n"
          ]
        }
      ]
    },
    {
      "cell_type": "code",
      "source": [
        "#Conditional Statemnt gives direction to the flow of Program\n",
        "a = int(input(\"Enter a number\"))\n",
        "b = int(input(\"Enter a number\"))\n",
        "c = int(input(\"Enter a number\"))\n",
        "d = int(input(\"Enter a number\"))\n",
        "e = int(input(\"Enter a number\"))\n",
        "max = a\n",
        "if(b>max):\n",
        "  max = b\n",
        "if(c>max):\n",
        "  max = c\n",
        "if(d>max):\n",
        "  max = d\n",
        "if(e>max):\n",
        "  max = e\n",
        "print(\"Maximum number is\", max)"
      ],
      "metadata": {
        "id": "ZW_DgFJX7MaH",
        "outputId": "2dbe4a7c-fc09-4932-fb6a-642950bc733b",
        "colab": {
          "base_uri": "https://localhost:8080/"
        }
      },
      "id": "ZW_DgFJX7MaH",
      "execution_count": 24,
      "outputs": [
        {
          "output_type": "stream",
          "name": "stdout",
          "text": [
            "Enter a number1\n",
            "Enter a number2\n",
            "Enter a number3\n",
            "Enter a number4\n",
            "Enter a number5\n",
            "Maximum number is 5\n"
          ]
        }
      ]
    },
    {
      "cell_type": "code",
      "source": [
        "a = int(input(\"Enter marks\"))\n",
        "b = int(input(\"Enter marks\"))\n",
        "c = int(input(\"Enter marks\"))\n",
        "d = input(\"Enter Gender(m/f)\")\n",
        "sum = (a+b+c)/3\n",
        "if sum >= 82 and d == \"f\":\n",
        "  print(\"You are Eligible\")\n",
        "elif sum>=62 and d == \"m\":\n",
        "  print(\"You are Eligible\")\n",
        "else:\n",
        "  print(\"You are not Eligible\")"
      ],
      "metadata": {
        "id": "nt_o69TF9lwu",
        "outputId": "809a20b0-b9af-460a-9ab5-d3c60d0d2221",
        "colab": {
          "base_uri": "https://localhost:8080/"
        }
      },
      "id": "nt_o69TF9lwu",
      "execution_count": 29,
      "outputs": [
        {
          "output_type": "stream",
          "name": "stdout",
          "text": [
            "Enter marks82\n",
            "Enter marks82\n",
            "Enter marks82\n",
            "Enter Gender(m/f)f\n",
            "You are Eligible\n"
          ]
        }
      ]
    },
    {
      "cell_type": "code",
      "source": [
        "n = int(input(\"Enter any year\"))\n",
        "if (n%400 ==0):\n",
        "  print(\"Centurial Leap Year\")\n",
        "elif (n%4 == 0 and n%100!=0):\n",
        "  print(\"Normal Leap Year\")\n",
        "else:\n",
        "  print(\"Not a Leap Year\")\n"
      ],
      "metadata": {
        "id": "LK4XgAsg_U11",
        "outputId": "c28a4596-a781-474e-a4ea-c8ad0c54e9d9",
        "colab": {
          "base_uri": "https://localhost:8080/"
        }
      },
      "id": "LK4XgAsg_U11",
      "execution_count": 32,
      "outputs": [
        {
          "output_type": "stream",
          "name": "stdout",
          "text": [
            "Enter any year1900\n",
            "Not a Leap Year\n"
          ]
        }
      ]
    },
    {
      "cell_type": "code",
      "source": [
        "n = int(input(\"Enter Your Cost Price\"))\n",
        "y = input(\"Are you a student\")\n",
        "if y ==\"y\":\n",
        "  if n > 500:\n",
        "    print(\"Cost price:\" , n)\n",
        "    print(\"Total Discount:\",n/10)\n",
        "    print(\"Total Cost:\", n-n/10)\n",
        "  else:\n",
        "    print(\"Cost price:\" , n)\n",
        "    print(\"Total Discount:\",(5*n)/100)\n",
        "    print(\"Total Cost:\", n-(5 *n)/100)\n",
        "else:\n",
        "  if n > 500:\n",
        "    print(\"Cost price:\" , n)\n",
        "    print(\"Total Discount:\",(8*n)/100)\n",
        "    print(\"Total Cost:\", n-(8*n)/100)\n",
        "  else:\n",
        "    print(\"Cost price:\" , n)\n",
        "    print(\"Total Discount:\",(2*n)/100)\n",
        "    print(\"Total Cost:\", n-(2*n)/100)\n",
        "\n"
      ],
      "metadata": {
        "id": "4FGYEnezCqOm",
        "outputId": "81d1f220-688f-4d01-952c-2d36d514bfdd",
        "colab": {
          "base_uri": "https://localhost:8080/"
        }
      },
      "id": "4FGYEnezCqOm",
      "execution_count": 37,
      "outputs": [
        {
          "output_type": "stream",
          "name": "stdout",
          "text": [
            "Enter Your Cost Price100\n",
            "Are you a studenty\n",
            "Cost price: 100\n",
            "Total Discount: 5.0\n",
            "Total Cost: 95.0\n"
          ]
        }
      ]
    },
    {
      "cell_type": "code",
      "source": [
        "# ASCII Value\n",
        "#A = 65, a = 97\n",
        "no = input(\"Enter any Character\")\n",
        "no = ord(no)\n",
        "if no >= 65 and no <= 90:\n",
        "  print(\"Upper Case\")\n",
        "elif no >= 97 and no <= 122:\n",
        "  print(\"Lower Case\")\n",
        "elif no >= 48 and no <= 57:\n",
        "  print(\"Number\")\n",
        "else:\n",
        "  print(\"Special Character\")"
      ],
      "metadata": {
        "id": "VveOfHUpEjTx",
        "outputId": "e42734c6-5e7d-4380-e362-26efcdb6c79b",
        "colab": {
          "base_uri": "https://localhost:8080/"
        }
      },
      "id": "VveOfHUpEjTx",
      "execution_count": 41,
      "outputs": [
        {
          "output_type": "stream",
          "name": "stdout",
          "text": [
            "Enter any Character1\n",
            "Number\n"
          ]
        }
      ]
    },
    {
      "cell_type": "code",
      "source": [
        "# For Loop is used when range is given\n",
        "# While Loop is used when range is not given\n",
        "n = int(input(\"Enter any  number\"))\n",
        "rev = 0\n",
        "while n>0:\n",
        "  rem = n % 10\n",
        "  rev = rev*10 + rem\n",
        "  n = n//10\n",
        "print(rev)"
      ],
      "metadata": {
        "id": "rHKPyT8DIspe",
        "outputId": "af164adf-b6ed-404d-89f7-f0b198345ea8",
        "colab": {
          "base_uri": "https://localhost:8080/"
        }
      },
      "id": "rHKPyT8DIspe",
      "execution_count": 44,
      "outputs": [
        {
          "output_type": "stream",
          "name": "stdout",
          "text": [
            "Enter any  number1000\n",
            "1\n"
          ]
        }
      ]
    },
    {
      "cell_type": "code",
      "source": [
        "n = int(input(\"Enter any  number\"))\n",
        "rev = 0\n",
        "while n>0:\n",
        "  n = n // 10\n",
        "  rev = rev + 1\n",
        "print(rev)"
      ],
      "metadata": {
        "id": "F3nU3AiBLrrU",
        "outputId": "ea4daafa-04c8-46e0-9d95-66b442df8eb3",
        "colab": {
          "base_uri": "https://localhost:8080/"
        }
      },
      "id": "F3nU3AiBLrrU",
      "execution_count": 45,
      "outputs": [
        {
          "output_type": "stream",
          "name": "stdout",
          "text": [
            "Enter any  number123456\n",
            "6\n"
          ]
        }
      ]
    },
    {
      "cell_type": "code",
      "source": [
        "n = int(input(\"Enter any  number\"))\n",
        "\n",
        "sum=0\n",
        "while n>0:\n",
        "  sum = sum+ (n % 10)\n",
        "\n",
        "  n = n//10\n",
        "print(sum)"
      ],
      "metadata": {
        "id": "FKZeAoFbMCmx",
        "outputId": "19777332-18a3-4f50-e049-fd4bf28b25bb",
        "colab": {
          "base_uri": "https://localhost:8080/"
        }
      },
      "id": "FKZeAoFbMCmx",
      "execution_count": 46,
      "outputs": [
        {
          "output_type": "stream",
          "name": "stdout",
          "text": [
            "Enter any  number123\n",
            "6\n"
          ]
        }
      ]
    },
    {
      "cell_type": "code",
      "source": [
        "n = int(input(\"Enter any  number\"))\n",
        "sum=1\n",
        "while n>0:\n",
        "  sum = sum * (n % 10)\n",
        "\n",
        "  n = n//10\n",
        "print(sum)"
      ],
      "metadata": {
        "id": "tnKZUpC0MX7v",
        "outputId": "6e3d792c-eb33-4642-ceeb-77527475f361",
        "colab": {
          "base_uri": "https://localhost:8080/"
        }
      },
      "id": "tnKZUpC0MX7v",
      "execution_count": 48,
      "outputs": [
        {
          "output_type": "stream",
          "name": "stdout",
          "text": [
            "Enter any  number123\n",
            "6\n"
          ]
        }
      ]
    },
    {
      "cell_type": "code",
      "source": [
        "n = int(input(\"Enter any  number\"))\n",
        "sum=1\n",
        "while n>0:\n",
        "  sum = sum * n\n",
        "\n",
        "  n = n - 1\n",
        "print(sum)"
      ],
      "metadata": {
        "id": "EfPmhb9bMj9M",
        "outputId": "a0c421a8-e40e-4b03-8fb0-e783427eb144",
        "colab": {
          "base_uri": "https://localhost:8080/"
        }
      },
      "id": "EfPmhb9bMj9M",
      "execution_count": 49,
      "outputs": [
        {
          "output_type": "stream",
          "name": "stdout",
          "text": [
            "Enter any  number4\n",
            "24\n"
          ]
        }
      ]
    },
    {
      "cell_type": "code",
      "source": [
        "#n = int(input(\"Enter any  number\"))\n",
        "\n",
        "\n",
        "for i in range(1,1001):\n",
        "  n = i\n",
        "  b = n\n",
        "  c = n\n",
        "  rev = 0\n",
        "  while b>0:\n",
        "    rev = rev + 1\n",
        "    b = b // 10\n",
        "\n",
        "    #print(rev)\n",
        "  sum = 0\n",
        "  while n>0:\n",
        "    d = n % 10\n",
        "    sum = sum + (d**rev)\n",
        "    n = n // 10\n",
        "  if sum == c:\n",
        "    print(sum)\n",
        "\n",
        "\n",
        "\n"
      ],
      "metadata": {
        "id": "WLWah2XtOMdZ",
        "outputId": "f95249ba-1bf3-4ea9-8ab6-77b8f5bbe713",
        "colab": {
          "base_uri": "https://localhost:8080/"
        }
      },
      "id": "WLWah2XtOMdZ",
      "execution_count": 62,
      "outputs": [
        {
          "output_type": "stream",
          "name": "stdout",
          "text": [
            "1\n",
            "2\n",
            "3\n",
            "4\n",
            "5\n",
            "6\n",
            "7\n",
            "8\n",
            "9\n",
            "153\n",
            "370\n",
            "371\n",
            "407\n"
          ]
        }
      ]
    },
    {
      "cell_type": "code",
      "source": [
        "#Tech Number\n",
        "x = int(input(\"Enter any number\"))\n",
        "rev = 0\n",
        "n = x\n",
        "while n>0:\n",
        "  n = n // 10\n",
        "  rev = rev + 1\n",
        "if rev%2 == 0:\n",
        "  rev = rev//2\n",
        "  a = x % (10**rev)\n",
        "  b = x //(10**rev)\n",
        "\n",
        "  if ((a+b)**2) == x:\n",
        "    print(\"Tech Number\")\n",
        "  else:\n",
        "    print(\"Not a Tech Number\")\n",
        "else:\n",
        "  print(\"Digits are odd\")\n"
      ],
      "metadata": {
        "id": "dzYRv7UmREAC",
        "outputId": "1f82ca18-2061-472f-b957-caaf29211523",
        "colab": {
          "base_uri": "https://localhost:8080/"
        }
      },
      "id": "dzYRv7UmREAC",
      "execution_count": 66,
      "outputs": [
        {
          "output_type": "stream",
          "name": "stdout",
          "text": [
            "Enter any number2025\n",
            "45\n",
            "Tech Number\n"
          ]
        }
      ]
    }
  ],
  "metadata": {
    "kernelspec": {
      "display_name": "Python 3",
      "name": "python3"
    },
    "language_info": {
      "name": "python"
    },
    "required_libs": [],
    "colab": {
      "provenance": []
    }
  },
  "nbformat": 4,
  "nbformat_minor": 5
}