{
  "cells": [
    {
      "cell_type": "code",
      "source": [
        "#break\n",
        "for i in range(1, 11):\n",
        "  if i == 5:\n",
        "    break;\n",
        "  print(i)"
      ],
      "metadata": {
        "colab": {
          "base_uri": "https://localhost:8080/"
        },
        "id": "BFzX4qxtGYkQ",
        "outputId": "9c549e39-814b-4838-92fa-6c72c4bd9ea2"
      },
      "id": "BFzX4qxtGYkQ",
      "execution_count": 2,
      "outputs": [
        {
          "output_type": "stream",
          "name": "stdout",
          "text": [
            "1\n",
            "2\n",
            "3\n",
            "4\n"
          ]
        }
      ]
    },
    {
      "cell_type": "code",
      "source": [
        "#continue\n",
        "j = 10\n",
        "for i in range(1, 6):\n",
        "  print(f\"{i}\", \"\\t\", f\"{j}\"  )\n",
        "  j -=1"
      ],
      "metadata": {
        "colab": {
          "base_uri": "https://localhost:8080/"
        },
        "id": "kJD1W0WhHidk",
        "outputId": "ce598440-f2c3-42c5-b15a-3ed02574bca6"
      },
      "id": "kJD1W0WhHidk",
      "execution_count": 11,
      "outputs": [
        {
          "output_type": "stream",
          "name": "stdout",
          "text": [
            "1 \t 10\n",
            "2 \t 9\n",
            "3 \t 8\n",
            "4 \t 7\n",
            "5 \t 6\n"
          ]
        }
      ]
    },
    {
      "cell_type": "code",
      "source": [
        "  #Nested for Loop\n",
        "  #outer loops represent rows\n",
        "  #inner loop represent columns\n",
        "  #if i(10) and j(10)\n",
        "  #for the value of i = 1 all the value of j will run\n",
        "  for i in range(1, 6): #for 1 iteration of 1\n",
        "    for j in range(1,6):#all iteration of j will run\n",
        "      print(f\"{i}\", end = \" \")\n",
        "    print(\"\\n\")\n"
      ],
      "metadata": {
        "colab": {
          "base_uri": "https://localhost:8080/"
        },
        "id": "hpZIT0ofHtF9",
        "outputId": "b3e261de-dc0f-4561-9d62-1f63261ce521"
      },
      "id": "hpZIT0ofHtF9",
      "execution_count": 21,
      "outputs": [
        {
          "output_type": "stream",
          "name": "stdout",
          "text": [
            "1 1 1 1 1 \n",
            "\n",
            "2 2 2 2 2 \n",
            "\n",
            "3 3 3 3 3 \n",
            "\n",
            "4 4 4 4 4 \n",
            "\n",
            "5 5 5 5 5 \n",
            "\n"
          ]
        }
      ]
    },
    {
      "cell_type": "code",
      "source": [
        "n = 1\n",
        "for i in range(1,5):\n",
        "  for j in range(1,5):\n",
        "    print(f\"{n}\", end = \" \")\n",
        "    n += 1\n",
        "  print(\"\\n\")"
      ],
      "metadata": {
        "colab": {
          "base_uri": "https://localhost:8080/"
        },
        "id": "dhCueEWtMOaR",
        "outputId": "d1ceab0c-3b85-4793-f8aa-703e595ed1ba"
      },
      "id": "dhCueEWtMOaR",
      "execution_count": 24,
      "outputs": [
        {
          "output_type": "stream",
          "name": "stdout",
          "text": [
            "1 2 3 4 \n",
            "\n",
            "5 6 7 8 \n",
            "\n",
            "9 10 11 12 \n",
            "\n",
            "13 14 15 16 \n",
            "\n"
          ]
        }
      ]
    },
    {
      "cell_type": "code",
      "source": [
        "n = 65\n",
        "for i in range(1,5):\n",
        "  for j in range(1,5):\n",
        "    print(chr(n),end = \" \")\n",
        "    n+=1\n",
        "\n",
        "  print(\"\\n\")"
      ],
      "metadata": {
        "colab": {
          "base_uri": "https://localhost:8080/"
        },
        "id": "3d_F95BgM-yc",
        "outputId": "a48a4949-ecc4-42bf-91d9-018e1b465336"
      },
      "id": "3d_F95BgM-yc",
      "execution_count": 27,
      "outputs": [
        {
          "output_type": "stream",
          "name": "stdout",
          "text": [
            "A B C D \n",
            "\n",
            "E F G H \n",
            "\n",
            "I J K L \n",
            "\n",
            "M N O P \n",
            "\n"
          ]
        }
      ]
    },
    {
      "cell_type": "code",
      "source": [
        "for i in range(1, 5):\n",
        "  for j in range(1, i+1):\n",
        "    print(i, end = \"\")\n",
        "  print(  )"
      ],
      "metadata": {
        "colab": {
          "base_uri": "https://localhost:8080/"
        },
        "id": "ZNsIm9t9NYGo",
        "outputId": "fc670a0f-3f02-4bbc-de10-163c6c358669"
      },
      "id": "ZNsIm9t9NYGo",
      "execution_count": 31,
      "outputs": [
        {
          "output_type": "stream",
          "name": "stdout",
          "text": [
            "1\n",
            "22\n",
            "333\n",
            "4444\n"
          ]
        }
      ]
    },
    {
      "cell_type": "code",
      "source": [
        "for i in range(1, 5):\n",
        "  for j in range(5, i, -1):\n",
        "    print(\"*\" , end = \"\")\n",
        "  print(  )"
      ],
      "metadata": {
        "colab": {
          "base_uri": "https://localhost:8080/"
        },
        "id": "-ySRo3dPNugz",
        "outputId": "2fee9320-84ee-43f9-ccc0-29874bcf572e"
      },
      "id": "-ySRo3dPNugz",
      "execution_count": 34,
      "outputs": [
        {
          "output_type": "stream",
          "name": "stdout",
          "text": [
            "****\n",
            "***\n",
            "**\n",
            "*\n"
          ]
        }
      ]
    },
    {
      "cell_type": "code",
      "source": [
        "for i in range(1, 5):\n",
        "  for k in range(1, i+1):\n",
        "    print(\" \", end = \"\")\n",
        "  for j in range(5, i, -1):\n",
        "    print(\"*\" , end = \"\")\n",
        "  print(  )"
      ],
      "metadata": {
        "colab": {
          "base_uri": "https://localhost:8080/"
        },
        "id": "ckP46Y5mPE_h",
        "outputId": "d97b4993-5690-4d81-fd6d-72a6ab30aa6e"
      },
      "id": "ckP46Y5mPE_h",
      "execution_count": 35,
      "outputs": [
        {
          "output_type": "stream",
          "name": "stdout",
          "text": [
            " ****\n",
            "  ***\n",
            "   **\n",
            "    *\n"
          ]
        }
      ]
    },
    {
      "cell_type": "code",
      "source": [
        "for i in range(1, 5):\n",
        "  for k in range(4, i, -1):\n",
        "    print(\" \", end = \"\")\n",
        "  for j in range(1, i+1):\n",
        "    print(\"*\" , end = \"\")\n",
        "  print(  )"
      ],
      "metadata": {
        "colab": {
          "base_uri": "https://localhost:8080/"
        },
        "id": "IqB4aUxbPRBh",
        "outputId": "bd5ac807-c0c2-4f46-a21c-0a98b2ff3b1a"
      },
      "id": "IqB4aUxbPRBh",
      "execution_count": 42,
      "outputs": [
        {
          "output_type": "stream",
          "name": "stdout",
          "text": [
            "   *\n",
            "  **\n",
            " ***\n",
            "****\n"
          ]
        }
      ]
    },
    {
      "cell_type": "code",
      "source": [
        "for i in range(1, 5):\n",
        "  for k in range(5, i, -1):\n",
        "    print(\" \", end = \"\")\n",
        "  for j in range(1, i+1):\n",
        "    print(\"*\" , end = \" \")\n",
        "  print(  )"
      ],
      "metadata": {
        "colab": {
          "base_uri": "https://localhost:8080/"
        },
        "id": "GnLLLOz9P1Ju",
        "outputId": "8245a5fc-09df-4025-920c-8a3e09be1d0f"
      },
      "id": "GnLLLOz9P1Ju",
      "execution_count": 39,
      "outputs": [
        {
          "output_type": "stream",
          "name": "stdout",
          "text": [
            "    * \n",
            "   * * \n",
            "  * * * \n",
            " * * * * \n"
          ]
        }
      ]
    },
    {
      "cell_type": "code",
      "source": [
        "# String Handling\n",
        "# find func is use to find the value store a specific condition\n",
        "s = \"Hello world\"\n",
        "print(s.find(\"world\"))\n",
        "print(s.find(\"o\"))\n",
        "print(s.rfind(\"o\"))"
      ],
      "metadata": {
        "colab": {
          "base_uri": "https://localhost:8080/"
        },
        "id": "jWV-1oGiRNYQ",
        "outputId": "59e2cfd0-e311-4b84-9073-1d376a4cdf01"
      },
      "id": "jWV-1oGiRNYQ",
      "execution_count": 47,
      "outputs": [
        {
          "output_type": "stream",
          "name": "stdout",
          "text": [
            "6\n",
            "4\n",
            "7\n"
          ]
        }
      ]
    },
    {
      "cell_type": "code",
      "source": [
        "#Count func\n",
        "#counts the occurence of value\n",
        "s = \"kjdsajkbckasnckaskclansc\"\n",
        "print(s.count(\"a\"))\n"
      ],
      "metadata": {
        "colab": {
          "base_uri": "https://localhost:8080/"
        },
        "id": "i0cSqOKBU6f2",
        "outputId": "9a399730-f408-4ede-c5f8-e700a62e9eec"
      },
      "id": "i0cSqOKBU6f2",
      "execution_count": 48,
      "outputs": [
        {
          "output_type": "stream",
          "name": "stdout",
          "text": [
            "4\n"
          ]
        }
      ]
    },
    {
      "cell_type": "code",
      "source": [
        "#replace function\n",
        "#need to pass to value new syring and old string\n",
        "s = \"bnbnbnbnbnbnbnbnbnbnbn\"\n",
        "print(s.replace(\"nb\", \"bn\"))"
      ],
      "metadata": {
        "colab": {
          "base_uri": "https://localhost:8080/"
        },
        "id": "oy_VTFGuVfTx",
        "outputId": "fd0b07ee-b700-4804-bd81-4627858d3c92"
      },
      "id": "oy_VTFGuVfTx",
      "execution_count": 54,
      "outputs": [
        {
          "output_type": "stream",
          "name": "stdout",
          "text": [
            "bbnbnbnbnbnbnbnbnbnbnn\n"
          ]
        }
      ]
    },
    {
      "cell_type": "code",
      "source": [
        "#split funtion convert it into list\n",
        "s = \"Hello World is a programming language\"\n",
        "print(s.split())\n",
        "print(type(s.split()))"
      ],
      "metadata": {
        "colab": {
          "base_uri": "https://localhost:8080/"
        },
        "id": "d8H9OImaWMHZ",
        "outputId": "87fee869-d03c-4c9e-e5ed-81b7cd4910b2"
      },
      "id": "d8H9OImaWMHZ",
      "execution_count": 56,
      "outputs": [
        {
          "output_type": "stream",
          "name": "stdout",
          "text": [
            "['Hello', 'World', 'is', 'a', 'programming', 'language']\n",
            "<class 'list'>\n"
          ]
        }
      ]
    },
    {
      "cell_type": "code",
      "source": [
        "s = \"22-02-2024\"\n",
        "l = s.split(\"-\")\n",
        "print(l)\n",
        "m = s.split(\" \")\n",
        "print(m)\n",
        "for x in l:\n",
        "  print(x)"
      ],
      "metadata": {
        "colab": {
          "base_uri": "https://localhost:8080/"
        },
        "id": "cdZwFTltYTty",
        "outputId": "de5839f2-f2fe-4430-f66c-f201ca33f545"
      },
      "id": "cdZwFTltYTty",
      "execution_count": 60,
      "outputs": [
        {
          "output_type": "stream",
          "name": "stdout",
          "text": [
            "['22', '02', '2024']\n",
            "['22-02-2024']\n",
            "22\n",
            "02\n",
            "2024\n"
          ]
        }
      ]
    },
    {
      "cell_type": "code",
      "source": [
        "#join reverse of split\n",
        "l = [\"Hello\", \"World\", \"is\", \"a\", \"programming\", \"language\"]\n",
        "s = \" \".join(l)\n",
        "print(s)"
      ],
      "metadata": {
        "colab": {
          "base_uri": "https://localhost:8080/"
        },
        "id": "sOTcgqG3Y5dv",
        "outputId": "fba0656d-88c2-436f-8c4a-12b8ef160d99"
      },
      "id": "sOTcgqG3Y5dv",
      "execution_count": 63,
      "outputs": [
        {
          "output_type": "stream",
          "name": "stdout",
          "text": [
            "Hello World is a programming language\n"
          ]
        }
      ]
    },
    {
      "cell_type": "code",
      "source": [
        "#changing case of a string\n",
        "s = \"Hello World\"\n",
        "print(s.upper())\n",
        "print(s.lower())\n",
        "print(s.swapcase())\n",
        "print(s.title())"
      ],
      "metadata": {
        "colab": {
          "base_uri": "https://localhost:8080/"
        },
        "id": "aRXQ-ItMZI7G",
        "outputId": "df578121-7ca7-4f51-ec6e-b95d8b1fd275"
      },
      "id": "aRXQ-ItMZI7G",
      "execution_count": 64,
      "outputs": [
        {
          "output_type": "stream",
          "name": "stdout",
          "text": [
            "HELLO WORLD\n",
            "hello world\n",
            "hELLO wORLD\n",
            "Hello World\n"
          ]
        }
      ]
    },
    {
      "cell_type": "code",
      "source": [
        "# Startwith and endwith\n",
        "s = \"Hello World\"\n",
        "print(s.startswith(\"Hello\"))\n",
        "print(s.endswith(\"World\"))\n",
        "print(s.endswith(\"Hello\"))"
      ],
      "metadata": {
        "colab": {
          "base_uri": "https://localhost:8080/"
        },
        "id": "V2nFKg2tZ0mV",
        "outputId": "4d7b0e35-f7be-4567-b580-dacd4e49c2a2"
      },
      "id": "V2nFKg2tZ0mV",
      "execution_count": 66,
      "outputs": [
        {
          "output_type": "stream",
          "name": "stdout",
          "text": [
            "True\n",
            "True\n",
            "False\n"
          ]
        }
      ]
    },
    {
      "cell_type": "code",
      "source": [
        "#Type of character present in a screen\n",
        "## To check type of characters present in a string:\n",
        "\n",
        "# Python contains the following methods:\n",
        "# 1) isalnum(): Returns True if all characters are alphanumeric\n",
        "# ( a to z , A to Z ,0 to9 )\n",
        "# 2) isalpha(): Returns True if all characters are only alphabet\n",
        "# symbols(a to z,A to Z)\n",
        "# 3) isdigit(): Returns True if all characters are digits only(\n",
        "# 0 to 9)\n",
        "# 4) islower(): Returns True if all characters are lower case\n",
        "# alphabet symbolsI\n",
        "# 5) isupper(): Returns True if all characters are upper case\n",
        "# aplhabet symbols\n",
        "# 6) istitle(): Returns True if string is in title case\n",
        "# 7) isspace(): Returns True if string contains only spaces\n",
        "x = input(\"Enter your mobile number: \")\n",
        "if x.isdigit() and len(x) == 10:\n",
        "  if x.startswith(\"6\") or x.startswith(\"7\") or x.startswith(\"8\") or x.startswith(\"9\"):\n",
        "    print(\"Valid\")\n",
        "  else:\n",
        "    print(\"Invalid\")\n",
        "else:\n",
        "    print(\"Enter 10 digit Number\")"
      ],
      "metadata": {
        "colab": {
          "base_uri": "https://localhost:8080/"
        },
        "id": "gKgHbxUjaBGo",
        "outputId": "6a0d24a8-0299-41b1-d875-1ac4a771e969"
      },
      "id": "gKgHbxUjaBGo",
      "execution_count": 72,
      "outputs": [
        {
          "output_type": "stream",
          "name": "stdout",
          "text": [
            "Enter your mobile number: 687630590\n",
            "Enter 10 digit Number\n"
          ]
        }
      ]
    },
    {
      "cell_type": "code",
      "source": [
        "s = input(\"Enter string:\")\n",
        "\n",
        "print(\"\".join(reversed(s)))\n",
        "print(s[::-1])"
      ],
      "metadata": {
        "colab": {
          "base_uri": "https://localhost:8080/"
        },
        "id": "znt21KTacvaV",
        "outputId": "b13de327-0698-4538-bdc6-b0a4cc985832"
      },
      "id": "znt21KTacvaV",
      "execution_count": 76,
      "outputs": [
        {
          "output_type": "stream",
          "name": "stdout",
          "text": [
            "Enter string:jash\n",
            "hsaj\n",
            "hsaj\n"
          ]
        }
      ]
    },
    {
      "cell_type": "code",
      "source": [
        "s = input(\"Enter string:\")\n",
        "rev = \"\"\n",
        "for i in s:\n",
        "  rev = i + rev\n",
        "print(rev)\n"
      ],
      "metadata": {
        "colab": {
          "base_uri": "https://localhost:8080/"
        },
        "id": "35m356r9d9Oe",
        "outputId": "cb3c75a1-1bb0-4674-eb59-02fd26e62a2a"
      },
      "id": "35m356r9d9Oe",
      "execution_count": 81,
      "outputs": [
        {
          "output_type": "stream",
          "name": "stdout",
          "text": [
            "Enter string:jash\n",
            "hsaj\n"
          ]
        }
      ]
    },
    {
      "cell_type": "code",
      "source": [
        "s = input(\"Enter  string:\")\n",
        "x = s.split(\" \")\n",
        "rev = \" \"\n",
        "for i in x:\n",
        "  rev = i + \" \" + rev\n",
        "print(rev,)\n"
      ],
      "metadata": {
        "colab": {
          "base_uri": "https://localhost:8080/"
        },
        "id": "deVdYzNue9N4",
        "outputId": "91978f6c-f2fb-4c55-9c78-803a051bc371"
      },
      "id": "deVdYzNue9N4",
      "execution_count": 88,
      "outputs": [
        {
          "output_type": "stream",
          "name": "stdout",
          "text": [
            "Enter  stringJD is best\n",
            "best is JD  \n"
          ]
        }
      ]
    },
    {
      "cell_type": "code",
      "source": [
        "s = input(\"Enter  string:\")\n",
        "x = s.split(\" \")\n",
        "rev = \" \"\n",
        "\n",
        "for i in x:\n",
        "  rev1 = \" \"\n",
        "  for j in i:\n",
        "    rev1 = j + rev1\n",
        "  rev = rev + \" \" + rev1\n",
        "\n",
        "\n",
        "print(rev)"
      ],
      "metadata": {
        "colab": {
          "base_uri": "https://localhost:8080/",
          "height": 388
        },
        "id": "-C4cOl2IgjsP",
        "outputId": "0f997ead-ed01-4233-91b6-e89de656685a"
      },
      "id": "-C4cOl2IgjsP",
      "execution_count": 96,
      "outputs": [
        {
          "output_type": "error",
          "ename": "KeyboardInterrupt",
          "evalue": "Interrupted by user",
          "traceback": [
            "\u001b[0;31m---------------------------------------------------------------------------\u001b[0m",
            "\u001b[0;31mKeyboardInterrupt\u001b[0m                         Traceback (most recent call last)",
            "\u001b[0;32m<ipython-input-96-f208e05fb311>\u001b[0m in \u001b[0;36m<cell line: 1>\u001b[0;34m()\u001b[0m\n\u001b[0;32m----> 1\u001b[0;31m \u001b[0ms\u001b[0m \u001b[0;34m=\u001b[0m \u001b[0minput\u001b[0m\u001b[0;34m(\u001b[0m\u001b[0;34m\"Enter  string:\"\u001b[0m\u001b[0;34m)\u001b[0m\u001b[0;34m\u001b[0m\u001b[0;34m\u001b[0m\u001b[0m\n\u001b[0m\u001b[1;32m      2\u001b[0m \u001b[0mx\u001b[0m \u001b[0;34m=\u001b[0m \u001b[0ms\u001b[0m\u001b[0;34m.\u001b[0m\u001b[0msplit\u001b[0m\u001b[0;34m(\u001b[0m\u001b[0;34m\" \"\u001b[0m\u001b[0;34m)\u001b[0m\u001b[0;34m\u001b[0m\u001b[0;34m\u001b[0m\u001b[0m\n\u001b[1;32m      3\u001b[0m \u001b[0mrev\u001b[0m \u001b[0;34m=\u001b[0m \u001b[0;34m\" \"\u001b[0m\u001b[0;34m\u001b[0m\u001b[0;34m\u001b[0m\u001b[0m\n\u001b[1;32m      4\u001b[0m \u001b[0;34m\u001b[0m\u001b[0m\n\u001b[1;32m      5\u001b[0m \u001b[0;32mfor\u001b[0m \u001b[0mi\u001b[0m \u001b[0;32min\u001b[0m \u001b[0mx\u001b[0m\u001b[0;34m:\u001b[0m\u001b[0;34m\u001b[0m\u001b[0;34m\u001b[0m\u001b[0m\n",
            "\u001b[0;32m/usr/local/lib/python3.10/dist-packages/ipykernel/kernelbase.py\u001b[0m in \u001b[0;36mraw_input\u001b[0;34m(self, prompt)\u001b[0m\n\u001b[1;32m    849\u001b[0m                 \u001b[0;34m\"raw_input was called, but this frontend does not support input requests.\"\u001b[0m\u001b[0;34m\u001b[0m\u001b[0;34m\u001b[0m\u001b[0m\n\u001b[1;32m    850\u001b[0m             )\n\u001b[0;32m--> 851\u001b[0;31m         return self._input_request(str(prompt),\n\u001b[0m\u001b[1;32m    852\u001b[0m             \u001b[0mself\u001b[0m\u001b[0;34m.\u001b[0m\u001b[0m_parent_ident\u001b[0m\u001b[0;34m,\u001b[0m\u001b[0;34m\u001b[0m\u001b[0;34m\u001b[0m\u001b[0m\n\u001b[1;32m    853\u001b[0m             \u001b[0mself\u001b[0m\u001b[0;34m.\u001b[0m\u001b[0m_parent_header\u001b[0m\u001b[0;34m,\u001b[0m\u001b[0;34m\u001b[0m\u001b[0;34m\u001b[0m\u001b[0m\n",
            "\u001b[0;32m/usr/local/lib/python3.10/dist-packages/ipykernel/kernelbase.py\u001b[0m in \u001b[0;36m_input_request\u001b[0;34m(self, prompt, ident, parent, password)\u001b[0m\n\u001b[1;32m    893\u001b[0m             \u001b[0;32mexcept\u001b[0m \u001b[0mKeyboardInterrupt\u001b[0m\u001b[0;34m:\u001b[0m\u001b[0;34m\u001b[0m\u001b[0;34m\u001b[0m\u001b[0m\n\u001b[1;32m    894\u001b[0m                 \u001b[0;31m# re-raise KeyboardInterrupt, to truncate traceback\u001b[0m\u001b[0;34m\u001b[0m\u001b[0;34m\u001b[0m\u001b[0m\n\u001b[0;32m--> 895\u001b[0;31m                 \u001b[0;32mraise\u001b[0m \u001b[0mKeyboardInterrupt\u001b[0m\u001b[0;34m(\u001b[0m\u001b[0;34m\"Interrupted by user\"\u001b[0m\u001b[0;34m)\u001b[0m \u001b[0;32mfrom\u001b[0m \u001b[0;32mNone\u001b[0m\u001b[0;34m\u001b[0m\u001b[0;34m\u001b[0m\u001b[0m\n\u001b[0m\u001b[1;32m    896\u001b[0m             \u001b[0;32mexcept\u001b[0m \u001b[0mException\u001b[0m \u001b[0;32mas\u001b[0m \u001b[0me\u001b[0m\u001b[0;34m:\u001b[0m\u001b[0;34m\u001b[0m\u001b[0;34m\u001b[0m\u001b[0m\n\u001b[1;32m    897\u001b[0m                 \u001b[0mself\u001b[0m\u001b[0;34m.\u001b[0m\u001b[0mlog\u001b[0m\u001b[0;34m.\u001b[0m\u001b[0mwarning\u001b[0m\u001b[0;34m(\u001b[0m\u001b[0;34m\"Invalid Message:\"\u001b[0m\u001b[0;34m,\u001b[0m \u001b[0mexc_info\u001b[0m\u001b[0;34m=\u001b[0m\u001b[0;32mTrue\u001b[0m\u001b[0;34m)\u001b[0m\u001b[0;34m\u001b[0m\u001b[0;34m\u001b[0m\u001b[0m\n",
            "\u001b[0;31mKeyboardInterrupt\u001b[0m: Interrupted by user"
          ]
        }
      ]
    },
    {
      "cell_type": "markdown",
      "source": [
        "s = input(\"Enter  string:\")\n",
        "l = []\n",
        "for i in s:\n",
        "  if i not in l:\n",
        "    l.append(i)\n",
        "    output=\"\".join(l)\n",
        "print(output)"
      ],
      "metadata": {
        "id": "_fNcCuMJiuGG"
      },
      "id": "_fNcCuMJiuGG"
    },
    {
      "cell_type": "code",
      "source": [
        "#List represent group of individual object\n",
        "#insertion order is preserved\n",
        "#duplicate object are allowed\n",
        "#len function counts length\n",
        "#count funct counts the no of occurences\n",
        "#append func adds data to the list\n",
        "#insert func enters value at specific index\n",
        "#extend func entend list 1 with list 2\n",
        "#remove func removes the specific occurence of the list\n",
        "#pop func removes the last occurence\n",
        "#reverse func reverse the list\n",
        "#sort the list\n",
        "#Mathematical operators can be used with List\n",
        "n1 = [10, 10, 20, [30, 40, 50]]\n",
        "n2 = [2,42,43,53]\n",
        "res = n1 + n2\n",
        "print(res)\n",
        "res1 = n1 * 2\n",
        "print(res1)\n",
        "print(n1[3][0])\n",
        "print(n1[3])\n",
        "\n",
        "\n"
      ],
      "metadata": {
        "colab": {
          "base_uri": "https://localhost:8080/"
        },
        "id": "OQpPaDYDjsEt",
        "outputId": "80a1c420-ef35-46b3-d650-800de1598daf"
      },
      "id": "OQpPaDYDjsEt",
      "execution_count": 5,
      "outputs": [
        {
          "output_type": "stream",
          "name": "stdout",
          "text": [
            "[10, 10, 20, [30, 40, 50], 2, 42, 43, 53]\n",
            "[10, 10, 20, [30, 40, 50], 10, 10, 20, [30, 40, 50]]\n",
            "30\n",
            "[30, 40, 50]\n"
          ]
        }
      ]
    },
    {
      "cell_type": "code",
      "source": [
        "n=[[10,20,30],[40,50,60], [70,80,90]]\n",
        "print(n)\n",
        "print(\"Elements by Row wise:\")\n",
        "for r in n:\n",
        "  print(r)\n",
        "print(\"Elements by Matrix style:\")\n",
        "for i in range(len(n)):\n",
        "  for j in range(len(n[i])):\n",
        "    print(n[i][j],end=' ')\n",
        "  print()"
      ],
      "metadata": {
        "colab": {
          "base_uri": "https://localhost:8080/"
        },
        "id": "AtWTguAy9d6X",
        "outputId": "ed8a49ff-74f1-49bd-9022-7d78e481d46c"
      },
      "id": "AtWTguAy9d6X",
      "execution_count": 8,
      "outputs": [
        {
          "output_type": "stream",
          "name": "stdout",
          "text": [
            "[[10, 20, 30], [40, 50, 60], [70, 80, 90]]\n",
            "Elements by Row wise:\n",
            "[10, 20, 30]\n",
            "[40, 50, 60]\n",
            "[70, 80, 90]\n",
            "Elements by Matrix style:\n",
            "10 20 30 \n",
            "40 50 60 \n",
            "70 80 90 \n"
          ]
        }
      ]
    },
    {
      "cell_type": "code",
      "source": [
        "x = int(input(\"Enter the Number of Semesters: \"))\n",
        "sub = []\n",
        "marks= []\n",
        "marks1 = []\n",
        "max_marks = []\n",
        "f = False\n",
        "for i in range(0, x, 1):\n",
        "  m = int(input(f\"Enter the number of subject in {i+1} semester: \"))\n",
        "  sub.append(m)\n",
        "a = len(sub)\n",
        "for j in range(0, a, 1):\n",
        "  d = sub[j]\n",
        "  for k in range(0, d, 1):\n",
        "    n = int(input(f\"Enter the marks of semester {j + 1}: \"))\n",
        "    if n > 100:\n",
        "      f = True\n",
        "      print(\"Enter valid marks\")\n",
        "      print(\"Re-enter\")\n",
        "      break\n",
        "    else:\n",
        "      marks.append(n)\n",
        "      marks1.append(marks)\n",
        "  if f == True:\n",
        "    break\n",
        "  e = max(marks)\n",
        "  max_marks.append(e)\n",
        "  marks.clear()\n",
        "if f == True:\n",
        "  print(\"End\")\n",
        "else:\n",
        "  for j in range(0, a, 1):\n",
        "    print(f\"Maximum marks in semester {j + 1} is {max_marks[j]}: \")\n"
      ],
      "metadata": {
        "colab": {
          "base_uri": "https://localhost:8080/"
        },
        "id": "JFFCPVSZ9wvq",
        "outputId": "d98ff995-e79f-4098-ad92-c7e816c7cb4a"
      },
      "id": "JFFCPVSZ9wvq",
      "execution_count": 31,
      "outputs": [
        {
          "output_type": "stream",
          "name": "stdout",
          "text": [
            "Enter the Number of Semesters: 2\n",
            "Enter the number of subject in 1 semester: 2\n",
            "Enter the number of subject in 2 semester: 2\n",
            "Enter the marks of semester 1: 101\n",
            "Enter valid marks\n",
            "Re-enter\n",
            "Invalid Marks\n"
          ]
        }
      ]
    },
    {
      "cell_type": "code",
      "source": [
        "#Tuple Creation\n",
        "n = 2,2,2,2,2,2,2\n",
        "print(n)\n",
        "print(type(n))\n",
        "#index define the index of first occurence\n",
        "print(n.index(2))\n",
        "#count define the no of occurence\n",
        "print(n.count(2))"
      ],
      "metadata": {
        "colab": {
          "base_uri": "https://localhost:8080/"
        },
        "id": "GraqpmvYJKC4",
        "outputId": "cba1f3c9-a54e-40f9-e9b9-06ac94ac2618"
      },
      "id": "GraqpmvYJKC4",
      "execution_count": 33,
      "outputs": [
        {
          "output_type": "stream",
          "name": "stdout",
          "text": [
            "(2, 2, 2, 2, 2, 2, 2)\n",
            "<class 'tuple'>\n"
          ]
        }
      ]
    },
    {
      "cell_type": "code",
      "source": [
        "#Set object represent the group of unique value\n",
        "# are mutable\n",
        "# add function add value to the set\n",
        "# remove func remove value from the set\n",
        "l = [1,1,1,1,1,2,3,4,4,5,5,6,6,6,7]\n",
        "print(l)\n",
        "s = set(l)\n",
        "print(s)\n",
        "\n"
      ],
      "metadata": {
        "colab": {
          "base_uri": "https://localhost:8080/"
        },
        "id": "AdGUY0QGKPc5",
        "outputId": "f95d16b5-5f86-4be1-b415-3e5dc01e3072"
      },
      "id": "AdGUY0QGKPc5",
      "execution_count": 34,
      "outputs": [
        {
          "output_type": "stream",
          "name": "stdout",
          "text": [
            "[1, 1, 1, 1, 1, 2, 3, 4, 4, 5, 5, 6, 6, 6, 7]\n",
            "{1, 2, 3, 4, 5, 6, 7}\n"
          ]
        }
      ]
    },
    {
      "cell_type": "code",
      "source": [
        "#Dictonary\n",
        "d = {200: \"Jash Desai\"}\n",
        "d[101] = \"Jash\"\n",
        "d[102] = \"JD\"\n",
        "d[200] = \"JD1304\"\n",
        "print(d)\n",
        "print(d[200])"
      ],
      "metadata": {
        "colab": {
          "base_uri": "https://localhost:8080/"
        },
        "id": "0h6jnnb0Mm3p",
        "outputId": "5a690e17-7116-4f64-da9a-15d7488cd249"
      },
      "id": "0h6jnnb0Mm3p",
      "execution_count": 40,
      "outputs": [
        {
          "output_type": "stream",
          "name": "stdout",
          "text": [
            "{200: 'JD1304', 101: 'Jash', 102: 'JD'}\n",
            "JD1304\n"
          ]
        }
      ]
    },
    {
      "cell_type": "code",
      "source": [
        "rec = {}\n",
        "n = int(input(\"Enter no of students: \"))\n",
        "i = 1\n",
        "while i<=n:\n",
        "  name = input(\"Enter the Student name\")\n",
        "  marks = int(input(\"Enter the marks\"))\n",
        "  rec[name] = marks\n",
        "  i+=1\n",
        "print(rec)"
      ],
      "metadata": {
        "colab": {
          "base_uri": "https://localhost:8080/"
        },
        "id": "kQqlTzvGMxsw",
        "outputId": "f9d4f988-f162-482e-8771-b1857bd64fc6"
      },
      "id": "kQqlTzvGMxsw",
      "execution_count": 42,
      "outputs": [
        {
          "output_type": "stream",
          "name": "stdout",
          "text": [
            "Enter no of students: 2\n",
            "Enter the Student namename\n",
            "Enter the marks23\n",
            "Enter the Student nameajs\n",
            "Enter the marks2324\n",
            "{'name': 23, 'ajs': 2324}\n"
          ]
        }
      ]
    },
    {
      "cell_type": "code",
      "source": [
        "d={100: 'ashish' ,200: 'Prashant', 300: 'sandip'}\n",
        "print(d[100])\n",
        "#print(d[400])\n",
        "print(d.get(100))\n",
        "print(d.get(400))\n",
        "print(d.get(100,\"Guest\"))\n",
        "print(d.get(400,\"Guest\"))"
      ],
      "metadata": {
        "colab": {
          "base_uri": "https://localhost:8080/"
        },
        "id": "188BjsaGPPy4",
        "outputId": "0dd687b7-a973-4d19-eaea-4457a48acaa6"
      },
      "id": "188BjsaGPPy4",
      "execution_count": 43,
      "outputs": [
        {
          "output_type": "stream",
          "name": "stdout",
          "text": [
            "ashish\n",
            "ashish\n",
            "None\n",
            "ashish\n",
            "Guest\n"
          ]
        }
      ]
    },
    {
      "cell_type": "code",
      "source": [
        "d={100: 'ashish' ,200: 'Prashant', 300: 'sandip'}\n",
        "print(d.keys())\n",
        "for k in d.keys():\n",
        "  print(k)"
      ],
      "metadata": {
        "colab": {
          "base_uri": "https://localhost:8080/"
        },
        "id": "F1268M_HQHan",
        "outputId": "fc9e8d8d-b097-4bb2-f87e-aa3fce736831"
      },
      "id": "F1268M_HQHan",
      "execution_count": 44,
      "outputs": [
        {
          "output_type": "stream",
          "name": "stdout",
          "text": [
            "dict_keys([100, 200, 300])\n",
            "100\n",
            "200\n",
            "300\n"
          ]
        }
      ]
    },
    {
      "cell_type": "code",
      "source": [
        "d = {}\n",
        "sum = 0\n",
        "for i in range(5):\n",
        "  i1 = int(input(\"enter the number: \"))\n",
        "  d[i] = i1\n",
        "for j in range(5):\n",
        "  sum = sum + d[j]\n",
        "print(sum)"
      ],
      "metadata": {
        "colab": {
          "base_uri": "https://localhost:8080/"
        },
        "id": "t_Sn3SMFRRHf",
        "outputId": "45fe2664-a4d6-4407-85b4-27bca8e5a2f2"
      },
      "id": "t_Sn3SMFRRHf",
      "execution_count": 45,
      "outputs": [
        {
          "output_type": "stream",
          "name": "stdout",
          "text": [
            "enter the number: 1\n",
            "enter the number: 2\n",
            "enter the number: 3\n",
            "enter the number: 4\n",
            "enter the number: 5\n",
            "15\n"
          ]
        }
      ]
    },
    {
      "cell_type": "code",
      "source": [
        "n = 4\n",
        "a = [1,3,2,4]\n",
        "l = []\n",
        "max = 0\n",
        "j = 0\n",
        "for i in range(n):\n",
        "  for j in range(i+1, n, 1):\n",
        "      if a[j]>a[i]:\n",
        "        l.append(a[j])\n",
        "        break\n",
        "\n",
        "l.append(-1)\n",
        "print(l)\n",
        "\n"
      ],
      "metadata": {
        "colab": {
          "base_uri": "https://localhost:8080/"
        },
        "id": "Wa285TXzTQLL",
        "outputId": "844096bc-614f-4d75-ee80-994061b489df"
      },
      "id": "Wa285TXzTQLL",
      "execution_count": 57,
      "outputs": [
        {
          "output_type": "stream",
          "name": "stdout",
          "text": [
            "[3, 4, 4, -1]\n"
          ]
        }
      ]
    },
    {
      "cell_type": "code",
      "source": [
        "n = \"aabbbbeeeeffggg\"\n",
        "a = []\n",
        "for i in range(len(n)):\n",
        "  count = 0\n",
        "  for j in range(len(n)):\n",
        "    if n[i]==n[j]:\n",
        "      count+=1\n",
        "    else:\n",
        "      a.append(n[i]+str(count))\n",
        "\n",
        "\n",
        "\n",
        "print(a)\n",
        "\n",
        "\n",
        "\n"
      ],
      "metadata": {
        "colab": {
          "base_uri": "https://localhost:8080/"
        },
        "id": "ISP754DTX4IS",
        "outputId": "530bd4c2-eabf-4a4e-a438-7fb34a066296"
      },
      "id": "ISP754DTX4IS",
      "execution_count": 83,
      "outputs": [
        {
          "output_type": "stream",
          "name": "stdout",
          "text": [
            "['a2', 'a2', 'a2', 'a2', 'a2', 'a2', 'a2', 'a2', 'a2', 'a2', 'a2', 'a2', 'a2', 'a2', 'a2', 'a2', 'a2', 'a2', 'a2', 'a2', 'a2', 'a2', 'a2', 'a2', 'a2', 'a2', 'b0', 'b0', 'b4', 'b4', 'b4', 'b4', 'b4', 'b4', 'b4', 'b4', 'b4', 'b0', 'b0', 'b4', 'b4', 'b4', 'b4', 'b4', 'b4', 'b4', 'b4', 'b4', 'b0', 'b0', 'b4', 'b4', 'b4', 'b4', 'b4', 'b4', 'b4', 'b4', 'b4', 'b0', 'b0', 'b4', 'b4', 'b4', 'b4', 'b4', 'b4', 'b4', 'b4', 'b4', 'e0', 'e0', 'e0', 'e0', 'e0', 'e0', 'e4', 'e4', 'e4', 'e4', 'e4', 'e0', 'e0', 'e0', 'e0', 'e0', 'e0', 'e4', 'e4', 'e4', 'e4', 'e4', 'e0', 'e0', 'e0', 'e0', 'e0', 'e0', 'e4', 'e4', 'e4', 'e4', 'e4', 'e0', 'e0', 'e0', 'e0', 'e0', 'e0', 'e4', 'e4', 'e4', 'e4', 'e4', 'f0', 'f0', 'f0', 'f0', 'f0', 'f0', 'f0', 'f0', 'f0', 'f0', 'f2', 'f2', 'f2', 'f0', 'f0', 'f0', 'f0', 'f0', 'f0', 'f0', 'f0', 'f0', 'f0', 'f2', 'f2', 'f2', 'g0', 'g0', 'g0', 'g0', 'g0', 'g0', 'g0', 'g0', 'g0', 'g0', 'g0', 'g0', 'g0', 'g0', 'g0', 'g0', 'g0', 'g0', 'g0', 'g0', 'g0', 'g0', 'g0', 'g0', 'g0', 'g0', 'g0', 'g0', 'g0', 'g0', 'g0', 'g0', 'g0', 'g0', 'g0', 'g0']\n"
          ]
        }
      ]
    },
    {
      "cell_type": "code",
      "source": [
        "str1 = input(\"Enter 1st String: \").lower()\n",
        "str2 = input(\"Enter 2nd String: \").lower()\n",
        "\n",
        "str1 = ''.join(sorted(str1))\n",
        "str2 = ''.join(sorted(str2))\n",
        "\n",
        "f = str1 == str2\n",
        "print(f)"
      ],
      "metadata": {
        "id": "7_kIxg2BeYBp",
        "outputId": "d931542e-1d0b-4061-e8e1-4e03d88a5792",
        "colab": {
          "base_uri": "https://localhost:8080/"
        }
      },
      "id": "7_kIxg2BeYBp",
      "execution_count": 87,
      "outputs": [
        {
          "output_type": "stream",
          "name": "stdout",
          "text": [
            "Enter 1st String: ycce\n",
            "Enter 2nd String: ycsce\n",
            "False\n"
          ]
        }
      ]
    },
    {
      "cell_type": "code",
      "source": [],
      "metadata": {
        "id": "jVuDCbCRfiye"
      },
      "id": "jVuDCbCRfiye",
      "execution_count": null,
      "outputs": []
    }
  ],
  "metadata": {
    "kernelspec": {
      "display_name": "Python 3",
      "name": "python3"
    },
    "language_info": {
      "name": "python"
    },
    "required_libs": [],
    "colab": {
      "provenance": []
    }
  },
  "nbformat": 4,
  "nbformat_minor": 5
}