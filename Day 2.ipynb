{
  "cells": [
    {
      "cell_type": "code",
      "source": [
        "#break\n",
        "for i in range(1, 11):\n",
        "  if i == 5:\n",
        "    break;\n",
        "  print(i)"
      ],
      "metadata": {
        "colab": {
          "base_uri": "https://localhost:8080/"
        },
        "id": "BFzX4qxtGYkQ",
        "outputId": "9c549e39-814b-4838-92fa-6c72c4bd9ea2"
      },
      "id": "BFzX4qxtGYkQ",
      "execution_count": 2,
      "outputs": [
        {
          "output_type": "stream",
          "name": "stdout",
          "text": [
            "1\n",
            "2\n",
            "3\n",
            "4\n"
          ]
        }
      ]
    },
    {
      "cell_type": "code",
      "source": [
        "#continue\n",
        "j = 10\n",
        "for i in range(1, 6):\n",
        "  print(f\"{i}\", \"\\t\", f\"{j}\"  )\n",
        "  j -=1"
      ],
      "metadata": {
        "id": "kJD1W0WhHidk",
        "outputId": "ce598440-f2c3-42c5-b15a-3ed02574bca6",
        "colab": {
          "base_uri": "https://localhost:8080/"
        }
      },
      "id": "kJD1W0WhHidk",
      "execution_count": 11,
      "outputs": [
        {
          "output_type": "stream",
          "name": "stdout",
          "text": [
            "1 \t 10\n",
            "2 \t 9\n",
            "3 \t 8\n",
            "4 \t 7\n",
            "5 \t 6\n"
          ]
        }
      ]
    },
    {
      "cell_type": "code",
      "source": [
        "  #Nested for Loop\n",
        "  #outer loops represent rows\n",
        "  #inner loop represent columns\n",
        "  #if i(10) and j(10)\n",
        "  #for the value of i = 1 all the value of j will run\n",
        "  for i in range(1, 6): #for 1 iteration of 1\n",
        "    for j in range(1,6):#all iteration of j will run\n",
        "      print(f\"{i}\", end = \" \")\n",
        "    print(\"\\n\")\n"
      ],
      "metadata": {
        "id": "hpZIT0ofHtF9",
        "outputId": "b3e261de-dc0f-4561-9d62-1f63261ce521",
        "colab": {
          "base_uri": "https://localhost:8080/"
        }
      },
      "id": "hpZIT0ofHtF9",
      "execution_count": 21,
      "outputs": [
        {
          "output_type": "stream",
          "name": "stdout",
          "text": [
            "1 1 1 1 1 \n",
            "\n",
            "2 2 2 2 2 \n",
            "\n",
            "3 3 3 3 3 \n",
            "\n",
            "4 4 4 4 4 \n",
            "\n",
            "5 5 5 5 5 \n",
            "\n"
          ]
        }
      ]
    },
    {
      "cell_type": "code",
      "source": [
        "n = 1\n",
        "for i in range(1,5):\n",
        "  for j in range(1,5):\n",
        "    print(f\"{n}\", end = \" \")\n",
        "    n += 1\n",
        "  print(\"\\n\")"
      ],
      "metadata": {
        "id": "dhCueEWtMOaR",
        "outputId": "d1ceab0c-3b85-4793-f8aa-703e595ed1ba",
        "colab": {
          "base_uri": "https://localhost:8080/"
        }
      },
      "id": "dhCueEWtMOaR",
      "execution_count": 24,
      "outputs": [
        {
          "output_type": "stream",
          "name": "stdout",
          "text": [
            "1 2 3 4 \n",
            "\n",
            "5 6 7 8 \n",
            "\n",
            "9 10 11 12 \n",
            "\n",
            "13 14 15 16 \n",
            "\n"
          ]
        }
      ]
    },
    {
      "cell_type": "code",
      "source": [
        "n = 65\n",
        "for i in range(1,5):\n",
        "  for j in range(1,5):\n",
        "    print(chr(n),end = \" \")\n",
        "    n+=1\n",
        "\n",
        "  print(\"\\n\")"
      ],
      "metadata": {
        "id": "3d_F95BgM-yc",
        "outputId": "a48a4949-ecc4-42bf-91d9-018e1b465336",
        "colab": {
          "base_uri": "https://localhost:8080/"
        }
      },
      "id": "3d_F95BgM-yc",
      "execution_count": 27,
      "outputs": [
        {
          "output_type": "stream",
          "name": "stdout",
          "text": [
            "A B C D \n",
            "\n",
            "E F G H \n",
            "\n",
            "I J K L \n",
            "\n",
            "M N O P \n",
            "\n"
          ]
        }
      ]
    },
    {
      "cell_type": "code",
      "source": [
        "for i in range(1, 5):\n",
        "  for j in range(1, i+1):\n",
        "    print(i, end = \"\")\n",
        "  print(  )"
      ],
      "metadata": {
        "id": "ZNsIm9t9NYGo",
        "outputId": "fc670a0f-3f02-4bbc-de10-163c6c358669",
        "colab": {
          "base_uri": "https://localhost:8080/"
        }
      },
      "id": "ZNsIm9t9NYGo",
      "execution_count": 31,
      "outputs": [
        {
          "output_type": "stream",
          "name": "stdout",
          "text": [
            "1\n",
            "22\n",
            "333\n",
            "4444\n"
          ]
        }
      ]
    },
    {
      "cell_type": "code",
      "source": [
        "for i in range(1, 5):\n",
        "  for j in range(5, i, -1):\n",
        "    print(\"*\" , end = \"\")\n",
        "  print(  )"
      ],
      "metadata": {
        "id": "-ySRo3dPNugz",
        "outputId": "2fee9320-84ee-43f9-ccc0-29874bcf572e",
        "colab": {
          "base_uri": "https://localhost:8080/"
        }
      },
      "id": "-ySRo3dPNugz",
      "execution_count": 34,
      "outputs": [
        {
          "output_type": "stream",
          "name": "stdout",
          "text": [
            "****\n",
            "***\n",
            "**\n",
            "*\n"
          ]
        }
      ]
    },
    {
      "cell_type": "code",
      "source": [
        "for i in range(1, 5):\n",
        "  for k in range(1, i+1):\n",
        "    print(\" \", end = \"\")\n",
        "  for j in range(5, i, -1):\n",
        "    print(\"*\" , end = \"\")\n",
        "  print(  )"
      ],
      "metadata": {
        "id": "ckP46Y5mPE_h",
        "outputId": "d97b4993-5690-4d81-fd6d-72a6ab30aa6e",
        "colab": {
          "base_uri": "https://localhost:8080/"
        }
      },
      "id": "ckP46Y5mPE_h",
      "execution_count": 35,
      "outputs": [
        {
          "output_type": "stream",
          "name": "stdout",
          "text": [
            " ****\n",
            "  ***\n",
            "   **\n",
            "    *\n"
          ]
        }
      ]
    },
    {
      "cell_type": "code",
      "source": [
        "for i in range(1, 5):\n",
        "  for k in range(4, i, -1):\n",
        "    print(\" \", end = \"\")\n",
        "  for j in range(1, i+1):\n",
        "    print(\"*\" , end = \"\")\n",
        "  print(  )"
      ],
      "metadata": {
        "id": "IqB4aUxbPRBh",
        "outputId": "bd5ac807-c0c2-4f46-a21c-0a98b2ff3b1a",
        "colab": {
          "base_uri": "https://localhost:8080/"
        }
      },
      "id": "IqB4aUxbPRBh",
      "execution_count": 42,
      "outputs": [
        {
          "output_type": "stream",
          "name": "stdout",
          "text": [
            "   *\n",
            "  **\n",
            " ***\n",
            "****\n"
          ]
        }
      ]
    },
    {
      "cell_type": "code",
      "source": [
        "for i in range(1, 5):\n",
        "  for k in range(5, i, -1):\n",
        "    print(\" \", end = \"\")\n",
        "  for j in range(1, i+1):\n",
        "    print(\"*\" , end = \" \")\n",
        "  print(  )"
      ],
      "metadata": {
        "id": "GnLLLOz9P1Ju",
        "outputId": "8245a5fc-09df-4025-920c-8a3e09be1d0f",
        "colab": {
          "base_uri": "https://localhost:8080/"
        }
      },
      "id": "GnLLLOz9P1Ju",
      "execution_count": 39,
      "outputs": [
        {
          "output_type": "stream",
          "name": "stdout",
          "text": [
            "    * \n",
            "   * * \n",
            "  * * * \n",
            " * * * * \n"
          ]
        }
      ]
    },
    {
      "cell_type": "code",
      "source": [
        "# String Handling\n",
        "# find func is use to find the value store a specific condition\n",
        "s = \"Hello world\"\n",
        "print(s.find(\"world\"))\n",
        "print(s.find(\"o\"))\n",
        "print(s.rfind(\"o\"))"
      ],
      "metadata": {
        "id": "jWV-1oGiRNYQ",
        "outputId": "59e2cfd0-e311-4b84-9073-1d376a4cdf01",
        "colab": {
          "base_uri": "https://localhost:8080/"
        }
      },
      "id": "jWV-1oGiRNYQ",
      "execution_count": 47,
      "outputs": [
        {
          "output_type": "stream",
          "name": "stdout",
          "text": [
            "6\n",
            "4\n",
            "7\n"
          ]
        }
      ]
    }
  ],
  "metadata": {
    "kernelspec": {
      "display_name": "Python 3",
      "name": "python3"
    },
    "language_info": {
      "name": "python"
    },
    "required_libs": [],
    "colab": {
      "provenance": []
    }
  },
  "nbformat": 4,
  "nbformat_minor": 5
}